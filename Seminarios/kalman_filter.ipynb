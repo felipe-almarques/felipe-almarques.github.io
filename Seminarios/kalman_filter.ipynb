{
  "cells": [
    {
      "cell_type": "raw",
      "metadata": {},
      "source": [
        "---\n",
        "title: \"Kalman Filter\"\n",
        "author: \"Felipe Marques\"\n",
        "format: \n",
        "  revealjs:\n",
        "    incremental: true\n",
        "    theme: [default, custom.scss]\n",
        "    chalkboard: true\n",
        "editor: visual\n",
        "---"
      ],
      "id": "e2cccfb5"
    },
    {
      "cell_type": "markdown",
      "metadata": {},
      "source": [
        "## Sumário\n",
        "\n",
        "1.  [Introdução](#sec-introducao)\n",
        "2.  [*State Space Representation*](#sec-state-space)\n",
        "3.  *Kalman Recursion*\n",
        "    1.  *Kalman Filter*\n",
        "    2.  *Kalman Prediction*\n",
        "    3.  *Kalman Smoothing*\n",
        "4.  Estimação dos parâmetros\n",
        "5.  Inferência com *Kalman Filter*\n",
        "\n",
        "# State Space Representation"
      ],
      "id": "b7819493"
    },
    {
      "cell_type": "raw",
      "metadata": {},
      "source": [
        "---\n",
        "\n",
        "## Introdução {#sec-introducao}\n",
        "\n",
        "A representação em estado de espaço é uma forma conveniente de representar as dinâmicas de uma variável através de duas equações que a descreve. (melhorar essa parte)\n",
        "\n",
        "Essa representação será útil quando tratarmos dos algoritmos de Kalman.\n",
        "\n",
        "---"
      ],
      "id": "1c9f6370"
    },
    {
      "cell_type": "markdown",
      "metadata": {},
      "source": [
        "## State Space Representation {#sec-state-space .unnumbered}\n",
        "\n",
        "Considere,\n",
        "\n",
        "-   $\\underset{(n \\times 1)}{\\mathbf{y}_t}$ um vetor de retornos observados,\n",
        "-   $\\underset{(r \\times 1)}{\\xi_t}$ um vetor possívelmente não observado,\n",
        "-   $\\underset{(k \\times 1)}{\\mathbf{x}_t}$ um vetor de variáveis exógenas,\n",
        "-   $\\mathbf{F}_{(r \\times r)}, \\mathbf{A}_{(n \\times k)}', \\mathbf{H}'_{(n \\times r)}$ matrizes de coeficientes."
      ],
      "id": "03ff3d19"
    },
    {
      "cell_type": "raw",
      "metadata": {},
      "source": [
        "---\n",
        "\n",
        "Então, a representação em estado de espaço de um modelo é da forma:\n",
        "\n",
        ". . .\n",
        "\n",
        "$$\n",
        "\\begin{equation}\n",
        "\\begin{array}{ccl}\n",
        "  \\mathbf{y}_t & = & \\mathbf{A}'\\mathbf{x}_t + \\mathbf{H}'\\xi_t + \\mathbf{w}_t \\\\\n",
        "  \\xi_{t+1} & = & \\mathbf{F}\\xi_t + \\mathbf{v}_t\n",
        "\\end{array}\n",
        "\\end{equation}\n",
        "$$\n",
        "\n",
        ". . .\n",
        "\n",
        "Onde, $\\mathbf{v}_t,\\mathbf{w}_t \\sim WN$\n",
        "\n",
        ". . .\n",
        "\n",
        "$\\textrm{Var}(\\mathbf{v}_t) = \\mathbf{Q}$ e $\\textrm{Var}(\\mathbf{w}_t) = \\mathbf{R}$. Além disso, $\\textrm{Cov}(\\mathbf{v}_t,\\mathbf{w}_k) = 0, \\forall t,k$.\n",
        "\n",
        ". . .\n",
        "\n",
        "A equação de cima é chamada de *observation equation*, enquanto a de baixo é chamada de *state equation*.\n",
        "\n",
        "---"
      ],
      "id": "b7997410"
    },
    {
      "cell_type": "markdown",
      "metadata": {},
      "source": [
        "### Exemplos\n",
        "\n",
        "Considere o processo AR(p) dado da forma:\n",
        "\n",
        "$$\n",
        "y_{t+1} - \\mu = \\phi_1(y_t - \\mu) + \\ldots + \\phi_p(y_{t-p+1} - \\mu) + \\epsilon_{t+1}\n",
        "$$\n",
        "\n",
        "onde $\\epsilon_t \\sim WN(0, \\sigma^2)$\n",
        "\n",
        "blablabla"
      ],
      "id": "db581c06"
    },
    {
      "cell_type": "raw",
      "metadata": {},
      "source": [
        "---\n",
        "\n",
        "# Kalman Recursion\n",
        "\n",
        "---"
      ],
      "id": "d198d995"
    },
    {
      "cell_type": "markdown",
      "metadata": {},
      "source": [
        "## Kalman Recursion\n",
        "\n",
        "A recursão de Kalman é um método iterativo e recursivo para encontrar o melhor estimador linear de $\\xi_t$, utilizando toda informação disponível até o momento.\n",
        "\n",
        "Nesse sentido, em geral, o interesse está em um desses 3 casos:\n",
        "\n",
        "- *filter* ($\\hat\\xi_{t|t}$)\n",
        "- *prediction* ($\\hat\\xi_{t+1|t}$)\n",
        "- *smoothing* ($\\hat\\xi_{\\tau|t}, \\tau < t$)"
      ],
      "id": "5fc97be4"
    },
    {
      "cell_type": "raw",
      "metadata": {},
      "source": [
        "---\n",
        "\n",
        "## Kalman Filter\n",
        "\n",
        "---"
      ],
      "id": "e3f721ba"
    },
    {
      "cell_type": "markdown",
      "metadata": {},
      "source": [
        "# Estimação dos parâmetros\n",
        "\n",
        "## Máxima verossimilhança\n",
        "\n",
        "A estimação dos parâmetros desconhecidos é feita através do método de máxima verossimilhança.\n",
        "\n",
        "Caso $\\xi_1$ e $\\{\\mathbf{w}_t,\\mathbf{v}_t\\}$\n"
      ],
      "id": "375315be"
    },
    {
      "cell_type": "code",
      "metadata": {},
      "source": [
        "for i in range(4):\n",
        "  print(f'Oi! Eu sou o agente {i}')"
      ],
      "id": "fcb88104",
      "execution_count": null,
      "outputs": []
    }
  ],
  "metadata": {
    "kernelspec": {
      "display_name": "Python 3",
      "language": "python",
      "name": "python3"
    }
  },
  "nbformat": 4,
  "nbformat_minor": 5
}